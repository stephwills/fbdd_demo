{
 "cells": [
  {
   "cell_type": "markdown",
   "id": "fff2063c",
   "metadata": {},
   "source": [
    "# Fragment-based drug discovery tutorial\n",
    "## Introduction\n",
    "\n",
    "To illustrate some parts of the fragment-based drug discovery (FBDD) pipeline, we will focus on the SARS-COV-2 target non-structural protein 13 (nsp13). One of sixteen non-structural proteins, this family are involved in replication and transcription of the virus, and nsp13 has been shown to be critical for replication in related SARS-CoV species, thus representing an attractive target for the development of antiviral drugs. \n",
    "\n",
    "In this practical, we will look at a set of 9 fragment hits found to bind to the nsp13 active site. If you wish to view the crystal structure for this target, you can do so in Fragalysis at the following link (https://fragalysis.diamond.ac.uk/viewer/react/preview/target/nsp13).\n",
    "\n",
    "![Fragalysis screenshot](imgs/fragalysis_screenshot.png)\n",
    "\n",
    "In the 'Hit navigator' section on the left-hand side of the screen you can scroll through the fragment hits. Select the 'L' button for each ligand to display the ligand, and 'P' to display the side chains for that crystal structure. "
   ]
  },
  {
   "cell_type": "markdown",
   "id": "4e9268d5",
   "metadata": {},
   "source": [
    "## Imports\n",
    "\n",
    "First, we'll import the libraries the packages that we'll be using for this tutorial"
   ]
  },
  {
   "cell_type": "code",
   "execution_count": null,
   "id": "aca7b0a6",
   "metadata": {},
   "outputs": [],
   "source": [
    "import os\n",
    "import mols2grid\n",
    "import numpy as np\n",
    "import py3Dmol\n",
    "import rdkit\n",
    "from rdkit import Chem\n",
    "from rdkit.Chem import AllChem, Draw, rdmolfiles, PyMol, Crippen, Descriptors, rdMolDescriptors, rdShapeHelpers, rdFMCS, rdForceFieldHelpers\n",
    "from rdkit.Chem.FeatMaps import FeatMaps\n",
    "from rdkit.Chem.Draw import IPythonConsole\n",
    "from rdkit.Chem.FilterCatalog import *\n",
    "from rdkit import RDConfig\n",
    "\n",
    "IPythonConsole.ipython_3d = True"
   ]
  },
  {
   "cell_type": "markdown",
   "id": "78bf5e11",
   "metadata": {},
   "source": [
    "## Fragments\n",
    "\n",
    "Next, we'll load a set of fragment hits against nsp13. These are saved in an sdf file, meaning 'structure-data file', a file format that contains information regarding the coordinates of individual atoms. The molecules can be assigned properties in sdf file; in this file, the name of the fragment has been assigned. XChem fragments are named according to a number, followed by a letter designating the protein chain, e.g. x0034_0B."
   ]
  },
  {
   "cell_type": "code",
   "execution_count": null,
   "id": "3e04b687",
   "metadata": {
    "scrolled": true
   },
   "outputs": [],
   "source": [
    "# Load the fragments using the function rdkit.Chem.SDMolSupplier()\n",
    "\n",
    "sdf = 'data/nsp13_mols.sdf'\n",
    "fragments = Chem.SDMolSupplier(sdf)\n",
    "\n",
    "# We can view the fragments using 'mols2grid', an interactive molecule viewer for 2D structures\n",
    "mols2grid.display(sdf, subset=['img', 'fragment'])"
   ]
  },
  {
   "cell_type": "markdown",
   "id": "112a51d8",
   "metadata": {},
   "source": [
    "If you would like to view the 3D conformations of the bound fragments, use the tick boxes on the fragments above\n",
    "and run the cells below. This cell uses py3Dmol, which allows molecular visualization in iPython notebooks.\n",
    "\n",
    "For more information on these tools, see the relevant Blopig links:\n",
    "- **mols2grid**: https://www.blopig.com/blog/2021/10/how-to-interact-with-small-molecules-in-jupyter-notebooks/\n",
    "- **py3Dmol**: https://www.blopig.com/blog/2016/10/viewing-3d-molecules-interactively-in-jupyter-ipython-notebooks/"
   ]
  },
  {
   "cell_type": "code",
   "execution_count": null,
   "id": "65189efd",
   "metadata": {
    "scrolled": true
   },
   "outputs": [],
   "source": [
    "def Draw3DMols(mols, size=(300, 300), style='stick', protein=False):\n",
    "    \"\"\"\n",
    "    Draws selected molecules in 3D\n",
    "    \n",
    "    Args:\n",
    "    ----\n",
    "        mols: list of rdkit molecules\n",
    "        size: tuple(int, int), canvas size\n",
    "        style: str, type of drawing molecule, style can be 'line', 'stick', 'sphere', 'cross'\n",
    "    Return:\n",
    "    ----\n",
    "        viewer: py3Dmol.view, a class for constructing embedded 3Dmol.js views in ipython notebooks.\n",
    "    \"\"\"\n",
    "    viewer = py3Dmol.view(width=size[0], height=size[1])\n",
    "    for mol in mols:\n",
    "        mblock = Chem.MolToMolBlock(mol)\n",
    "        viewer.addModel(mblock, 'mol')\n",
    "    viewer.setStyle({style:{'colorscheme': 'cyanCarbon'}})\n",
    "    if protein:\n",
    "        viewer.addModel(open('data/nsp13_apo-desolv.pdb', 'r').read(), 'pdb')\n",
    "        viewer.setStyle({'chain':'B'},{'line': {'color':'white'}})\n",
    "        viewer.addSurface(py3Dmol.VDW,{'opacity': 0.7, 'color': 'white'})\n",
    "        \n",
    "    viewer.zoomTo()\n",
    "    return viewer.show()"
   ]
  },
  {
   "cell_type": "code",
   "execution_count": null,
   "id": "eb4020bc",
   "metadata": {},
   "outputs": [],
   "source": [
    "selected_fragments = [fragments[i] for i in mols2grid.get_selection().keys()]\n",
    "Draw3DMols(selected_fragments)"
   ]
  },
  {
   "cell_type": "code",
   "execution_count": null,
   "id": "2e31d1c3",
   "metadata": {},
   "outputs": [],
   "source": [
    "# You can also use py3Dmol to view where the fragments are in relation to the protein\n",
    "Draw3DMols(selected_fragments, size=(500,500), protein=True)"
   ]
  },
  {
   "cell_type": "markdown",
   "id": "e6ab13d0",
   "metadata": {},
   "source": [
    "## Generate some elaborations\n",
    "\n",
    "Next, we will look at some example elaborations for these fragments. \n",
    "\n",
    "### Fragment growing and linking\n",
    "To do this we will use a piece of software called CReM (Chemically Reasonable Mutations), inspired by a blogpost by Pat Walters on Practical Cheminformatics.\n",
    "\n",
    "**Links**:\n",
    "- **Blogpost**: http://practicalcheminformatics.blogspot.com/2020/03/building-on-fragments-from-diamondxchem.html\n",
    "- **CrEM paper**: https://jcheminf.biomedcentral.com/articles/10.1186/s13321-020-00431-w\n",
    "- **GitHub repo**: https://github.com/DrrDom/crem\n",
    "\n",
    "In short, CReM is based on matched molecular pairs, referring to a pair of molecules that differ by a chemical transformation at a single site. CrEM involves the generation of a database of interchangeable fragments from a set of input molecules, whereby fragments that share a similar chemical context can be replaced to generate new molecules (exemplified by the diagram below). The chemical context is defined by a user-specified radius.\n",
    "\n",
    "![CREM figure 1](imgs/crem_f1.png)\n",
    "\n",
    "Therefore, we can attach or replace certain functional groups by checking they share the same chemical context around the attachment point. CrEM allows three types of transformation.\n",
    "\n",
    "- **MUTATE**: replacement of a fragment\n",
    "- **GROW**: replacement of a hydrogen with another fragment\n",
    "- **LINK**: replacement of hydrogen atoms in two fragments with a fragment, thus linking the compounds together \n",
    "\n",
    "![CREM figure 3](imgs/crem_f3.png)\n",
    "\n",
    "We will look at some of the molecules generated using the GROW and LINK transformations. A pre-generated database containing fragmented ChEMBL compounds was used. As the database is quite large, these elaborations have already been generated for you and can be retrieved using the code below."
   ]
  },
  {
   "cell_type": "markdown",
   "id": "077e3462",
   "metadata": {},
   "source": [
    "Because I love mols2grid, select either the single molecule you want to grow or the two molecules you want to link."
   ]
  },
  {
   "cell_type": "code",
   "execution_count": null,
   "id": "1051b9b1",
   "metadata": {},
   "outputs": [],
   "source": [
    "mols2grid.display(sdf, subset=['img', 'fragment'])"
   ]
  },
  {
   "cell_type": "code",
   "execution_count": null,
   "id": "998d53ad",
   "metadata": {},
   "outputs": [],
   "source": [
    "def get_elaborations(elab_type='grow', sdf='data/nsp13_mols.sdf'):\n",
    "    \"\"\"\n",
    "    Run this function to retrieve the data. Specify whether you want to grow or link fragment(s).\n",
    "\n",
    "    Args:\n",
    "    ----\n",
    "        elab_type: 'grow' or 'link'\n",
    "    Return:\n",
    "    ----\n",
    "        elaborations: list of elaborated molecules \n",
    "    \"\"\"\n",
    "    mols = Chem.SDMolSupplier(sdf)\n",
    "    names = [m.GetProp('fragment') for m in mols]\n",
    "    frags = [names[i] for i in list(mols2grid.get_selection().keys())]\n",
    "    if elab_type == 'grow':\n",
    "        if len(frags) != 1:\n",
    "            raise Exception(\"Please select only one fragment for growing.\")\n",
    "        else:\n",
    "            file = os.path.join('data', 'grow_mols', f'{frags[0]}.sdf')\n",
    "            suppl = Chem.SDMolSupplier(file)\n",
    "    elif elab_type == 'link':\n",
    "        if len(frags) != 2:\n",
    "            raise Exception(\"Please select two fragments for linking.\")\n",
    "        else:\n",
    "            frags.sort()\n",
    "            file = os.path.join('data', 'link_mols', f'{frags[0]}-{frags[1]}.sdf')\n",
    "            suppl = Chem.SDMolSupplier(file)\n",
    "    else:\n",
    "        raise Exception('Invalid elab type')\n",
    "    \n",
    "    elaborations = [m for m in suppl]\n",
    "    print(f'{len(elaborations)} elaborated molecules found for that transformation.')\n",
    "    return elaborations"
   ]
  },
  {
   "cell_type": "markdown",
   "id": "d6800a5d",
   "metadata": {},
   "source": [
    "Retrieve the data based on your selection and display the first 9 using rdkit.Chem.Draw.MolsToGridImage. Change the argument from 'grow' to 'link' to find linkers."
   ]
  },
  {
   "cell_type": "code",
   "execution_count": null,
   "id": "c7e247c9",
   "metadata": {},
   "outputs": [],
   "source": [
    "mols = get_elaborations('grow')\n",
    "Draw.MolsToGridImage(mols[:9], molsPerRow=3)"
   ]
  },
  {
   "cell_type": "markdown",
   "id": "8f0f6fcc",
   "metadata": {},
   "source": [
    "## Filtering fragments"
   ]
  },
  {
   "cell_type": "markdown",
   "id": "b98fd120",
   "metadata": {},
   "source": [
    "Following enumeration of the elaborated compounds, we may want to apply filters to prioritise the most promising compounds and those that are most likely to retain the binding pose and interactions of the inspirational fragments. There are several ways we can do this, using both 2D and 3D filters.\n",
    "\n",
    "We will start with two very simple 2D filtering steps, the first being Lipinski's rules (used to determine drug-likeness using calculated molecular descriptors such as molecular weight, number of hydrogen bond donors and acceptors, etc.; https://en.wikipedia.org/wiki/Lipinski%27s_rule_of_five)."
   ]
  },
  {
   "cell_type": "markdown",
   "id": "7abb11de",
   "metadata": {},
   "source": [
    "### Lipinski filters"
   ]
  },
  {
   "cell_type": "code",
   "execution_count": null,
   "id": "6c813441",
   "metadata": {},
   "outputs": [],
   "source": [
    "def lipinski_filter(mols):\n",
    "    \"\"\"\n",
    "    Filters molecules that violate Lipinski's ro5.\n",
    "    \n",
    "    Args:\n",
    "    ----\n",
    "        mols: RDKit molecules to filter\n",
    "    Return:\n",
    "    ----\n",
    "        filtered_mols\n",
    "    \"\"\"\n",
    "    filtered_mols = []\n",
    "    for mol in mols:\n",
    "        molwt = Descriptors.MolWt(mol)\n",
    "        logp = Crippen.MolLogP(mol)\n",
    "        HBA = Chem.rdMolDescriptors.CalcNumHBA(mol)\n",
    "        HBD = Chem.rdMolDescriptors.CalcNumHBD(mol)\n",
    "\n",
    "        violations = 0\n",
    "\n",
    "        if molwt>500:\n",
    "            violations += 1\n",
    "        if logp > 5:\n",
    "            violations += 1\n",
    "        if HBA > 10:\n",
    "            violations += 1\n",
    "        if HBD > 5:\n",
    "            violations += 1\n",
    "\n",
    "        if violations < 2:\n",
    "            filtered_mols.append(mol)\n",
    "    print(f\"{len(filtered_mols)}/{len(mols)} molecules remaining after filtering\")\n",
    "    return filtered_mols"
   ]
  },
  {
   "cell_type": "code",
   "execution_count": null,
   "id": "c866627b",
   "metadata": {},
   "outputs": [],
   "source": [
    "mols = lipinski_filter(mols)"
   ]
  },
  {
   "cell_type": "markdown",
   "id": "cfc72751",
   "metadata": {},
   "source": [
    "### PAINS compounds\n",
    "Pan-assay interference (PAINS) compounds are compounds that contain reactive groups that are likely to cause false-positive results in assays, and thus it is often favourable to remove these compounds. We can do this using RDKit's filter catalog.\n",
    "\n",
    "![PAINS](imgs/PAINS.jpg)\n"
   ]
  },
  {
   "cell_type": "code",
   "execution_count": null,
   "id": "6b19d1e6",
   "metadata": {},
   "outputs": [],
   "source": [
    "def pains_filter(mols):\n",
    "    \"\"\"\n",
    "    Filters undesirable PAINS compounds using RDKit's filter catalog.\n",
    "    \n",
    "    Args:\n",
    "    ----\n",
    "        mols: RDKit molecules to filter\n",
    "    Return:\n",
    "    ----\n",
    "        filtered_mols\n",
    "    \"\"\"\n",
    "    filtered_mols = []\n",
    "    params = FilterCatalogParams()\n",
    "    params.AddCatalog(FilterCatalogParams.FilterCatalogs.PAINS_A)\n",
    "    params.AddCatalog(FilterCatalogParams.FilterCatalogs.PAINS_B)\n",
    "    params.AddCatalog(FilterCatalogParams.FilterCatalogs.PAINS_C)\n",
    "    catalog = FilterCatalog(params)\n",
    "    for mol in mols:\n",
    "        if not catalog.HasMatch(mol):\n",
    "            filtered_mols.append(mol)\n",
    "    print(f\"{len(filtered_mols)}/{len(mols)} molecules remaining after filtering\")\n",
    "    return filtered_mols"
   ]
  },
  {
   "cell_type": "code",
   "execution_count": null,
   "id": "671c6a21",
   "metadata": {},
   "outputs": [],
   "source": [
    "mols = pains_filter(mols)"
   ]
  },
  {
   "cell_type": "markdown",
   "id": "7cc42eca",
   "metadata": {},
   "source": [
    "## Generating 3D conformations\n",
    "As already discussed in the talk, once we have enumerated these compounds, we then want to generate binding poses, which can be used to determine whether the compounds are able to retain the binding pose of the original fragments and determine their likelihood to bind and recapitulate the interactions made,\n",
    "\n",
    "We will demonstrate conformer generation using two simple approaches."
   ]
  },
  {
   "cell_type": "markdown",
   "id": "d0fb0ff3",
   "metadata": {},
   "source": [
    "### ETDKG and alignment\n",
    "\n",
    "In the first approach, we will generate conformations for elaborated molecules using the ETKDG algorithm mentioned during the talk. The conformations are aligned to the parent fragment(s) and scored using the SuCOS metric. SuCOS is a scoring function that looks at the overlap between the shape and the pharmacophoric features of the elaborated ligand with the parent fragments. The conformer with the highest SuCOS score is then returned.\n",
    "\n",
    "More information on SuCOS can be found at the following links:\n",
    "- **Paper**: https://chemrxiv.org/engage/chemrxiv/article-details/60c741a99abda23230f8bed5\n",
    "- **GitHub repo**: https://github.com/susanhleung/SuCOS\n",
    "- **Normalized SuCOS blopig post**: https://www.blopig.com/blog/2021/11/using-normalized-sucos-scores/\n",
    "\n",
    "*Code adapted from an XChem practical at* https://github.com/xchem/strucbio_practical"
   ]
  },
  {
   "cell_type": "code",
   "execution_count": null,
   "id": "35525d4c",
   "metadata": {},
   "outputs": [],
   "source": [
    "\n",
    "########################################################################################\n",
    "#\n",
    "#  SuCOS Implementation\n",
    "#\n",
    "########################################################################################\n",
    "\n",
    "fdef = AllChem.BuildFeatureFactory(os.path.join(RDConfig.RDDataDir, 'BaseFeatures.fdef'))\n",
    "\n",
    "fmParams = {}\n",
    "for k in fdef.GetFeatureFamilies():\n",
    "    fparams = FeatMaps.FeatMapParams()\n",
    "    fmParams[k] = fparams\n",
    "\n",
    "keep = ('Donor', 'Acceptor', 'NegIonizable', 'PosIonizable', 'ZnBinder',\n",
    "        'Aromatic', 'Hydrophobe', 'LumpedHydrophobe')\n",
    "\n",
    "\n",
    "def get_FeatureMapScore(small_m, large_m, score_mode=FeatMaps.FeatMapScoreMode.Best):\n",
    "    featLists = []\n",
    "    for m in [small_m, large_m]:\n",
    "        rawFeats = fdef.GetFeaturesForMol(m)\n",
    "        # filter that list down to only include the ones we're intereted in\n",
    "        featLists.append([f for f in rawFeats if f.GetFamily() in keep])\n",
    "    fms = [FeatMaps.FeatMap(feats=x, weights=[1] * len(x), params=fmParams) for x in featLists]\n",
    "    fms[0].scoreMode = score_mode\n",
    "    fm_score = fms[0].ScoreFeats(featLists[1]) / min(fms[0].GetNumFeatures(), len(featLists[1]))\n",
    "    return fm_score\n",
    "\n",
    "\n",
    "def score(reflig, prb_mols, ids, score_mode=FeatMaps.FeatMapScoreMode.All, p=False):\n",
    "    ref = Chem.AddHs(reflig)\n",
    "    idx = 0\n",
    "\n",
    "    results_sucos = {}\n",
    "    results_tani = {}\n",
    "\n",
    "    smi_mol = Chem.MolToSmiles(prb_mols)\n",
    "\n",
    "    for i in ids:\n",
    "\n",
    "        prb = Chem.AddHs(Chem.MolFromMolBlock(Chem.MolToMolBlock(prb_mols, confId=i)))\n",
    "\n",
    "        fm_score = get_FeatureMapScore(ref, prb, score_mode)\n",
    "        fm_score = np.clip(fm_score, 0, 1)\n",
    "\n",
    "        protrude_dist = rdShapeHelpers.ShapeProtrudeDist(ref, prb,\n",
    "                                                         allowReordering=False)\n",
    "        protrude_dist = np.clip(protrude_dist, 0, 1)\n",
    "\n",
    "        SuCOS_score = 0.5 * fm_score + 0.5 * (1 - protrude_dist)\n",
    "        tanimoto_score = Chem.rdShapeHelpers.ShapeTanimotoDist(ref, prb)\n",
    "\n",
    "        results_sucos[str(idx)] = SuCOS_score\n",
    "        results_tani[str(idx)] = tanimoto_score\n",
    "\n",
    "        if p:\n",
    "            print(\"********************************\")\n",
    "            print(\"index: \" + str(idx))\n",
    "            print(\"SuCOS score:\\t%f\" % SuCOS_score)\n",
    "            print(\"Tani score:\\t%f\" % tanimoto_score)\n",
    "            print(\"********************************\")\n",
    "\n",
    "        idx += 1\n",
    "\n",
    "    return results_sucos\n",
    "\n",
    "\n",
    "########################################################################################\n",
    "#\n",
    "#  Alignment & scoring implementation\n",
    "#\n",
    "########################################################################################\n",
    "\n",
    "# create dictionary to help retrieve fragment molecules\n",
    "fragment_d = {}\n",
    "for f in fragments:\n",
    "    name = f.GetProp('fragment')\n",
    "    fragment_d[name] = f\n",
    "\n",
    "def get_best_align(fragment, elab_mol, numConfs=100):\n",
    "    \"\"\"\n",
    "    Get the best alignment by generating multiple conformers using the ETKDG algorithm\n",
    "    and returning the conformer with the best SuCOS score.\n",
    "    \n",
    "    Args:\n",
    "    ---\n",
    "        fragment: fragment used as ref mol in alignment\n",
    "        elab_mol: elaborated molecule\n",
    "        numConfs: number of ETKDG conformers to generate\n",
    "    \n",
    "    Return:\n",
    "    ---\n",
    "        elab_molblock: mol block of the best-scoring conformer\n",
    "    \"\"\"\n",
    "    # generate conformers\n",
    "    ids = AllChem.EmbedMultipleConfs(elab_mol, numConfs=numConfs, params=AllChem.ETKDG())\n",
    "    \n",
    "    # perform the alignment\n",
    "    for cid in ids:\n",
    "        o3d = Chem.rdMolAlign.GetO3A(prbMol=elab_mol, refMol=fragment, prbCid=cid)\n",
    "        o3d.Align()\n",
    "    \n",
    "    # score molecules using SuCOS and get the best-scoring conformer\n",
    "    results_sucos = score(fragment, elab_mol, ids)\n",
    "    best_i = list(results_sucos.values()).index(max(results_sucos.values()))\n",
    "    elab_molblock = Chem.MolToMolBlock(elab_mol, confId=best_i)\n",
    "\n",
    "    return elab_molblock\n",
    "\n",
    "def gen_conf_from_vector(elab_mol, return_frag=True):\n",
    "    \"\"\"\n",
    "    Function retrieves the inspiration fragment(s) (saved as mol property) and \n",
    "    finds the best conformer.\n",
    "    \"\"\"    \n",
    "    if elab_mol.HasProp('insp_fragment'):\n",
    "        frag_name = elab_mol.GetProp('insp_fragment')\n",
    "        ref_mol = fragment_d[frag_name]\n",
    "        conf = Chem.MolFromMolBlock(get_best_align(ref_mol, elab_mol))\n",
    "    \n",
    "    # if there are two parent fragments, combine to get a single ref mol for alignment\n",
    "    elif elab_mol.HasProp('insp_fragments'):\n",
    "        frag_names = elab_mol.GetProp('insp_fragments').split('-')\n",
    "        frags = [fragment_d[f] for f in frag_names]\n",
    "        ref_mol = Chem.rdmolops.CombineMols(frags[0], frags[1])\n",
    "        conf = Chem.MolFromMolBlock(get_best_align(ref_mol, elab_mol))\n",
    "    \n",
    "    if return_frag:\n",
    "        return conf, ref_mol\n",
    "    else:\n",
    "        return conf"
   ]
  },
  {
   "cell_type": "markdown",
   "id": "1190d9ec",
   "metadata": {},
   "source": [
    "gen_conf_from_vector() will retrieve the inspirational fragments for the elaborated molecule (which are saved as properties) and will return the best conformer and the reference molecule used for alignment (either a single inspirational fragment or two inspirational fragments combined into a single molecule).\n",
    "\n",
    "You can use the function below, display_aligned_mol() to display an elaborated molecule together with its parent fragment(s) using py3DMol."
   ]
  },
  {
   "cell_type": "code",
   "execution_count": null,
   "id": "bc45299c",
   "metadata": {},
   "outputs": [],
   "source": [
    "def display_aligned_mol(elab_mol, size=(300, 300), style='stick'):\n",
    "    \"\"\"\n",
    "    Get the best aligned conformer and display together with the inspiration fragment\n",
    "    using py3DMol.\n",
    "    \"\"\"\n",
    "    conf, ref_mol = gen_conf_from_vector(elab_mol)\n",
    "    mblock = Chem.MolToMolBlock(conf)\n",
    "    viewer = py3Dmol.view(width=size[0], height=size[1])\n",
    "    viewer.addModel(mblock, 'mol')\n",
    "    refblock = Chem.MolToMolBlock(ref_mol)\n",
    "    viewer.addModel(refblock, 'mol')\n",
    "    viewer.setStyle({style:{'colorscheme': 'cyanCarbon'}})\n",
    "    viewer.zoomTo()\n",
    "    return viewer.show()"
   ]
  },
  {
   "cell_type": "code",
   "execution_count": null,
   "id": "331ca54a",
   "metadata": {},
   "outputs": [],
   "source": [
    "# Try generating a conformer for one of your elaborated molecules!\n",
    "display_aligned_mol(mols[0])"
   ]
  },
  {
   "cell_type": "code",
   "execution_count": null,
   "id": "969b5e3c",
   "metadata": {},
   "outputs": [],
   "source": [
    "# Try generating a few different conformers\n",
    "mols_3d = [gen_conf_from_vector(mol, return_frag=False) for mol in mols[:5]]\n",
    "Draw.MolsToGridImage(mols_3d)"
   ]
  },
  {
   "cell_type": "markdown",
   "id": "cd7deb74",
   "metadata": {},
   "source": [
    "### Constrained embedding\n",
    "We can use constrained embedding to generate conformations for molecules whereby we constrain the positions of the atoms that came from the inspirational fragments using their original 3D cooordinates. This function performs better for growth elaborations than for example merges, as it may not be possible to generate a physically reasonable structure constrained with the parent fragments' coordinates.\n",
    "\n",
    "More information can be found on the constrained embed function at the following links:\n",
    "- **RDKit blog**: Using AllChem.ConstrainedEmbed: http://rdkit.blogspot.com/2013/12/using-allchemconstrainedembed.html\n",
    "- **RDKit blog**: More on constrained embedding: http://rdkit.blogspot.com/2019/01/more-on-constrained-embedding.html\n",
    "- **Blopig**: Constrained Embedding with RDKit: https://www.blopig.com/blog/2019/06/constrained-embedding-with-rdkit/"
   ]
  },
  {
   "cell_type": "code",
   "execution_count": null,
   "id": "a3cc524f",
   "metadata": {},
   "outputs": [],
   "source": [
    "def add_coordinates(fragment, substructure):\n",
    "    \"\"\"\n",
    "    Function to add 3D coordinates to a substructure (e.g. MCS) from the corresponding\n",
    "    atoms from the original fragment.\n",
    "    \"\"\"\n",
    "    ref_match = fragment.GetSubstructMatch(substructure)\n",
    "    rwmol = Chem.RWMol(substructure)\n",
    "    rwconf = Chem.Conformer(rwmol.GetNumAtoms())  # create a conformer of the substructure\n",
    "    matches = rwmol.GetSubstructMatch(substructure)  # get matches so atoms in the same order\n",
    "    ref_conf = fragment.GetConformer()  # get the conformation of the actual fragment\n",
    "    for i, match in enumerate(matches):  # set atom position using matching atom from fragment\n",
    "        rwconf.SetAtomPosition(match, ref_conf.GetAtomPosition(ref_match[i]))\n",
    "    rwmol.AddConformer(rwconf)  # add the conformation to the substructure\n",
    "    return rwmol\n",
    "\n",
    "def constrained_embedding(mol, ref_mol):\n",
    "    \"\"\"\n",
    "    Embed elaborated molecules while constraining the positions of atoms from the original fragments using their\n",
    "    3D coordinates.\n",
    "    \"\"\"\n",
    "    _ = AllChem.Compute2DCoords(mol)\n",
    "\n",
    "    # calculates maximum common substructure (MCS) between the fragment and the elaborated compound\n",
    "    mcs = rdFMCS.FindMCS([mol, ref_mol])\n",
    "    mcs_mol = Chem.MolFromSmarts(mcs.smartsString)\n",
    "\n",
    "    # add coordinates to the MCS\n",
    "    core = add_coordinates(ref_mol, mcs_mol)\n",
    "\n",
    "    # perform constrained embedding (may fail for some molecules)\n",
    "    nm = Chem.Mol(mol)\n",
    "    nm = Chem.AddHs(nm)  # add hydrogens for more accurate embedding\n",
    "    embedded = AllChem.ConstrainedEmbed(nm, core, 42)\n",
    "    AllChem.UFFOptimizeMolecule(embedded)\n",
    "    embedded = Chem.RemoveHs(embedded)\n",
    "\n",
    "    return embedded\n",
    "\n",
    "def gen_conf_using_embedding(elab_mol, return_frag=True):\n",
    "    \"\"\"\n",
    "    Function retrieves the inspiration fragment(s) (saved as mol property) and \n",
    "    finds the best conformer.\n",
    "    \"\"\"    \n",
    "    if elab_mol.HasProp('insp_fragment'):\n",
    "        frag_name = elab_mol.GetProp('insp_fragment')\n",
    "        ref_mol = fragment_d[frag_name]\n",
    "        conf = constrained_embedding(elab_mol, ref_mol)\n",
    "    \n",
    "    # if there are two parent fragments, combine to get a single ref mol for embedding\n",
    "    elif elab_mol.HasProp('insp_fragments'):\n",
    "        frag_names = elab_mol.GetProp('insp_fragments').split('-')\n",
    "        frags = [fragment_d[f] for f in frag_names]\n",
    "        ref_mol = Chem.rdmolops.CombineMols(frags[0], frags[1])\n",
    "        conf = constrained_embedding(elab_mol, Chem.Mol(ref_mol))\n",
    "    \n",
    "    if return_frag:\n",
    "        return conf, ref_mol\n",
    "    else:\n",
    "        return conf"
   ]
  },
  {
   "cell_type": "markdown",
   "id": "b97258b1",
   "metadata": {},
   "source": [
    "Let's try it! We can display the elaborated molecules together with their fragments using the function below."
   ]
  },
  {
   "cell_type": "code",
   "execution_count": null,
   "id": "83e8c7e7",
   "metadata": {},
   "outputs": [],
   "source": [
    "def display_embedded_mol(elab_mol, size=(300, 300), style='stick'):\n",
    "    \"\"\"\n",
    "    Perform constrained embedding and display together with the inspiration fragment\n",
    "    using py3DMol.\n",
    "    \"\"\"\n",
    "    conf, ref_mol = gen_conf_using_embedding(elab_mol)\n",
    "    mblock = Chem.MolToMolBlock(conf)\n",
    "    viewer = py3Dmol.view(width=size[0], height=size[1])\n",
    "    viewer.addModel(mblock, 'mol')\n",
    "    refblock = Chem.MolToMolBlock(ref_mol)\n",
    "    viewer.addModel(refblock, 'mol')\n",
    "    viewer.setStyle({style:{'colorscheme': 'cyanCarbon'}})\n",
    "    viewer.zoomTo()\n",
    "    return viewer.show()"
   ]
  },
  {
   "cell_type": "code",
   "execution_count": null,
   "id": "6c87785c",
   "metadata": {},
   "outputs": [],
   "source": [
    "# Try performing constrained embedding for some of your molecules.\n",
    "display_embedded_mol(mols[0])"
   ]
  },
  {
   "cell_type": "code",
   "execution_count": null,
   "id": "5625a06c",
   "metadata": {},
   "outputs": [],
   "source": [
    "# Try embedding a few different molecules\n",
    "mols_3d = [gen_conf_using_embedding(mol, return_frag=False) for mol in mols[:5]]\n",
    "Draw.MolsToGridImage(mols_3d)"
   ]
  }
 ],
 "metadata": {
  "kernelspec": {
   "display_name": "Python 3",
   "language": "python",
   "name": "python3"
  },
  "language_info": {
   "codemirror_mode": {
    "name": "ipython",
    "version": 3
   },
   "file_extension": ".py",
   "mimetype": "text/x-python",
   "name": "python",
   "nbconvert_exporter": "python",
   "pygments_lexer": "ipython3",
   "version": "3.7.13"
  }
 },
 "nbformat": 4,
 "nbformat_minor": 5
}
